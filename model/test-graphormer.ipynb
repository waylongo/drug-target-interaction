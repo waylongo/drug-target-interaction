{
 "cells": [
  {
   "cell_type": "code",
   "execution_count": 1,
   "id": "47bc42eb",
   "metadata": {
    "ExecuteTime": {
     "end_time": "2022-06-06T21:46:00.858866Z",
     "start_time": "2022-06-06T21:45:59.403237Z"
    }
   },
   "outputs": [
    {
     "name": "stderr",
     "output_type": "stream",
     "text": [
      "/home/ww6p9/anaconda3/envs/DeepPurpose/lib/python3.6/site-packages/tqdm/auto.py:22: TqdmWarning: IProgress not found. Please update jupyter and ipywidgets. See https://ipywidgets.readthedocs.io/en/stable/user_install.html\n",
      "  from .autonotebook import tqdm as notebook_tqdm\n"
     ]
    }
   ],
   "source": [
    "import sys\n",
    "import numpy as np\n",
    "import pandas as pd\n",
    "import torch\n",
    "\n",
    "sys.path.append(\"../Graphormer\")\n",
    "from graphormer.modules import GraphormerGraphEncoder\n",
    "\n",
    "device = torch.device('cuda' if torch.cuda.is_available() else 'cpu')\n",
    "# device = 'cpu'"
   ]
  },
  {
   "cell_type": "markdown",
   "id": "68511852",
   "metadata": {},
   "source": [
    "### Data"
   ]
  },
  {
   "cell_type": "code",
   "execution_count": 2,
   "id": "451bbb97",
   "metadata": {
    "ExecuteTime": {
     "end_time": "2022-06-06T21:46:01.045835Z",
     "start_time": "2022-06-06T21:46:00.860246Z"
    }
   },
   "outputs": [],
   "source": [
    "import pyximport\n",
    "pyximport.install(setup_args={\"include_dirs\": np.get_include()})\n",
    "from graphormer.data import algos\n",
    "import argparse\n",
    "from torch.utils.data import DataLoader, Dataset"
   ]
  },
  {
   "cell_type": "code",
   "execution_count": 3,
   "id": "29799250",
   "metadata": {
    "ExecuteTime": {
     "end_time": "2022-06-06T21:46:01.057867Z",
     "start_time": "2022-06-06T21:46:01.047878Z"
    }
   },
   "outputs": [],
   "source": [
    "N = 100\n",
    "adj = torch.zeros([N, N], dtype=torch.bool)\n",
    "adj = adj.to(torch.int)"
   ]
  },
  {
   "cell_type": "code",
   "execution_count": 4,
   "id": "67e44521",
   "metadata": {
    "ExecuteTime": {
     "end_time": "2022-06-06T21:46:01.066912Z",
     "start_time": "2022-06-06T21:46:01.058764Z"
    }
   },
   "outputs": [],
   "source": [
    "def preprocess_item(adj):\n",
    "    \n",
    "    N = len(adj)\n",
    "    x = torch.eye(N, dtype=torch.long)\n",
    "    attn_edge_type = torch.zeros([N, N, 1], dtype=torch.long)\n",
    "    shortest_path_result, path = algos.floyd_warshall(adj.numpy())\n",
    "    max_dist = np.amax(shortest_path_result)\n",
    "    edge_input = algos.gen_edge_input(max_dist, path, attn_edge_type.numpy())\n",
    "    spatial_pos = torch.from_numpy((shortest_path_result)).long()\n",
    "    attn_bias = torch.zeros([N + 1, N + 1], dtype=torch.float)  # with graph token\n",
    "\n",
    "    item = {}\n",
    "    item[\"x\"] = x\n",
    "    item[\"attn_bias\"] = attn_bias\n",
    "    item[\"attn_edge_type\"] = attn_edge_type\n",
    "    item[\"spatial_pos\"] = spatial_pos\n",
    "    item[\"in_degree\"] = adj.long().sum(dim=1).view(-1)\n",
    "    item[\"out_degree\"] = item[\"in_degree\"] # for undirected graph\n",
    "    item[\"edge_input\"] = torch.from_numpy(edge_input).long()\n",
    "    \n",
    "    return item"
   ]
  },
  {
   "cell_type": "code",
   "execution_count": 5,
   "id": "9fbac396",
   "metadata": {
    "ExecuteTime": {
     "end_time": "2022-06-06T21:46:01.105821Z",
     "start_time": "2022-06-06T21:46:01.068275Z"
    }
   },
   "outputs": [],
   "source": [
    "item = preprocess_item(adj)"
   ]
  },
  {
   "cell_type": "code",
   "execution_count": 6,
   "id": "4b454ea9",
   "metadata": {
    "ExecuteTime": {
     "end_time": "2022-06-06T21:46:01.109756Z",
     "start_time": "2022-06-06T21:46:01.106950Z"
    }
   },
   "outputs": [],
   "source": [
    "class TrainDataset(Dataset):\n",
    "    def __init__(self, adjs):\n",
    "        self.adjs = adjs\n",
    "    \n",
    "    def __len__(self):\n",
    "        return adjs.shape[2]\n",
    "    \n",
    "    def __getitem__(self, idx):\n",
    "        return preprocess_item(adjs[:,:,idx])"
   ]
  },
  {
   "cell_type": "code",
   "execution_count": 7,
   "id": "058b10c8",
   "metadata": {
    "ExecuteTime": {
     "end_time": "2022-06-06T21:46:01.604614Z",
     "start_time": "2022-06-06T21:46:01.110557Z"
    }
   },
   "outputs": [],
   "source": [
    "adjs = torch.rand((N, N, 256))\n",
    "adjs = adjs > 0.9\n",
    "adjs = adjs.to(torch.int)\n",
    "\n",
    "subnetwork_adj = np.load(\"subnetwork_adj.npy\")\n",
    "adjs = np.stack((subnetwork_adj,) * 256, axis=-1)\n",
    "adjs = torch.from_numpy(adjs).to(torch.int)\n",
    "\n",
    "train_dataset = TrainDataset(adjs)"
   ]
  },
  {
   "cell_type": "code",
   "execution_count": 8,
   "id": "ed9ec723",
   "metadata": {
    "ExecuteTime": {
     "end_time": "2022-06-06T21:46:01.607474Z",
     "start_time": "2022-06-06T21:46:01.605461Z"
    }
   },
   "outputs": [],
   "source": [
    "train_loader = DataLoader(train_dataset,\n",
    "                          batch_size=2,\n",
    "                          shuffle=True,\n",
    "                          num_workers=0,\n",
    "                          pin_memory=False,\n",
    "                          drop_last=True)"
   ]
  },
  {
   "cell_type": "code",
   "execution_count": 9,
   "id": "ae27d665",
   "metadata": {
    "ExecuteTime": {
     "end_time": "2022-06-06T21:46:02.877166Z",
     "start_time": "2022-06-06T21:46:01.608325Z"
    }
   },
   "outputs": [],
   "source": [
    "for step, inputs in enumerate(train_loader):\n",
    "    break"
   ]
  },
  {
   "cell_type": "code",
   "execution_count": 10,
   "id": "29611d24",
   "metadata": {
    "ExecuteTime": {
     "end_time": "2022-06-06T21:46:02.883544Z",
     "start_time": "2022-06-06T21:46:02.878037Z"
    }
   },
   "outputs": [
    {
     "data": {
      "text/plain": [
       "torch.Size([2, 475, 475])"
      ]
     },
     "execution_count": 10,
     "metadata": {},
     "output_type": "execute_result"
    }
   ],
   "source": [
    "inputs[\"x\"].shape"
   ]
  },
  {
   "cell_type": "code",
   "execution_count": 11,
   "id": "6e336367",
   "metadata": {
    "ExecuteTime": {
     "end_time": "2022-06-06T21:46:02.895521Z",
     "start_time": "2022-06-06T21:46:02.884455Z"
    }
   },
   "outputs": [
    {
     "data": {
      "text/plain": [
       "torch.Size([2, 475, 475])"
      ]
     },
     "execution_count": 11,
     "metadata": {},
     "output_type": "execute_result"
    }
   ],
   "source": [
    "inputs[\"spatial_pos\"].shape"
   ]
  },
  {
   "cell_type": "markdown",
   "id": "8ba87086",
   "metadata": {},
   "source": [
    "### Model"
   ]
  },
  {
   "cell_type": "code",
   "execution_count": 12,
   "id": "d07218ca",
   "metadata": {
    "ExecuteTime": {
     "end_time": "2022-06-06T21:46:03.227774Z",
     "start_time": "2022-06-06T21:46:02.896288Z"
    }
   },
   "outputs": [],
   "source": [
    "encoder = GraphormerGraphEncoder(\n",
    "    num_atoms=1, # number of atom types in the graph\n",
    "    num_in_degree=512, # number of in degree types in the graph\n",
    "    num_out_degree=512, # number of out degree types in the graph\n",
    "    num_edges=1, # number of edge types in the graph\n",
    "    num_spatial=512, # number of spatial types in the graph\n",
    "    num_edge_dis=1, # number of edge dis types in the graph\n",
    "    edge_type=\"x\", # edge type in the graph\n",
    "    multi_hop_max_dist=512, # max number of edges considered in the edge encoding\n",
    ")\n",
    "\n",
    "# encoder"
   ]
  },
  {
   "cell_type": "code",
   "execution_count": 13,
   "id": "f9444165",
   "metadata": {
    "ExecuteTime": {
     "end_time": "2022-06-06T21:46:06.023302Z",
     "start_time": "2022-06-06T21:46:03.228696Z"
    }
   },
   "outputs": [],
   "source": [
    "encoder = encoder.to(device)"
   ]
  },
  {
   "cell_type": "code",
   "execution_count": 14,
   "id": "d5ae2ec9",
   "metadata": {
    "ExecuteTime": {
     "end_time": "2022-06-06T21:46:06.339225Z",
     "start_time": "2022-06-06T21:46:06.024244Z"
    }
   },
   "outputs": [
    {
     "name": "stdout",
     "output_type": "stream",
     "text": [
      "x\n",
      "attn_bias\n",
      "attn_edge_type\n",
      "spatial_pos\n",
      "in_degree\n",
      "out_degree\n",
      "edge_input\n"
     ]
    }
   ],
   "source": [
    "for k, v in inputs.items():\n",
    "    print(k)\n",
    "    inputs[k] = v.to(device)"
   ]
  },
  {
   "cell_type": "code",
   "execution_count": 15,
   "id": "14320cde",
   "metadata": {
    "ExecuteTime": {
     "end_time": "2022-06-06T21:46:06.387805Z",
     "start_time": "2022-06-06T21:46:06.340134Z"
    },
    "scrolled": true
   },
   "outputs": [],
   "source": [
    "_, graph_rep = encoder(inputs)"
   ]
  },
  {
   "cell_type": "code",
   "execution_count": 16,
   "id": "b3e4a288",
   "metadata": {
    "ExecuteTime": {
     "end_time": "2022-06-06T21:46:06.390686Z",
     "start_time": "2022-06-06T21:46:06.388702Z"
    }
   },
   "outputs": [
    {
     "data": {
      "text/plain": [
       "torch.Size([2, 768])"
      ]
     },
     "execution_count": 16,
     "metadata": {},
     "output_type": "execute_result"
    }
   ],
   "source": [
    "graph_rep.shape"
   ]
  },
  {
   "cell_type": "code",
   "execution_count": 17,
   "id": "90b178ca",
   "metadata": {
    "ExecuteTime": {
     "end_time": "2022-06-06T21:46:06.413021Z",
     "start_time": "2022-06-06T21:46:06.391962Z"
    }
   },
   "outputs": [
    {
     "name": "stdout",
     "output_type": "stream",
     "text": [
      "tensor([[ 0.8468,  0.5050,  0.4485,  ...,  2.3219, -1.4351,  2.2487],\n",
      "        [-0.0182,  1.1045, -0.3592,  ...,  0.5575,  0.1404,  0.4228]],\n",
      "       device='cuda:0', grad_fn=<SliceBackward>)\n"
     ]
    }
   ],
   "source": [
    "print(graph_rep)"
   ]
  },
  {
   "cell_type": "code",
   "execution_count": 18,
   "id": "22d79dd4",
   "metadata": {
    "ExecuteTime": {
     "end_time": "2022-06-06T21:46:06.417350Z",
     "start_time": "2022-06-06T21:46:06.413900Z"
    }
   },
   "outputs": [
    {
     "data": {
      "text/plain": [
       "tensor([[ 0.8468,  0.5050,  0.4485,  ...,  2.3219, -1.4351,  2.2487],\n",
       "        [-0.0182,  1.1045, -0.3592,  ...,  0.5575,  0.1404,  0.4228]],\n",
       "       device='cuda:0', grad_fn=<SliceBackward>)"
      ]
     },
     "execution_count": 18,
     "metadata": {},
     "output_type": "execute_result"
    }
   ],
   "source": [
    "graph_rep"
   ]
  },
  {
   "cell_type": "code",
   "execution_count": null,
   "id": "c2bb0bdf",
   "metadata": {},
   "outputs": [],
   "source": []
  },
  {
   "cell_type": "code",
   "execution_count": null,
   "id": "31479cd8",
   "metadata": {},
   "outputs": [],
   "source": []
  },
  {
   "cell_type": "code",
   "execution_count": null,
   "id": "a93a1f37",
   "metadata": {},
   "outputs": [],
   "source": []
  },
  {
   "cell_type": "code",
   "execution_count": null,
   "id": "81d5cf5a",
   "metadata": {},
   "outputs": [],
   "source": []
  },
  {
   "cell_type": "code",
   "execution_count": null,
   "id": "6147551c",
   "metadata": {},
   "outputs": [],
   "source": []
  }
 ],
 "metadata": {
  "kernelspec": {
   "display_name": "Python 3",
   "language": "python",
   "name": "python3"
  },
  "language_info": {
   "codemirror_mode": {
    "name": "ipython",
    "version": 3
   },
   "file_extension": ".py",
   "mimetype": "text/x-python",
   "name": "python",
   "nbconvert_exporter": "python",
   "pygments_lexer": "ipython3",
   "version": "3.6.13"
  },
  "toc": {
   "base_numbering": 1,
   "nav_menu": {},
   "number_sections": true,
   "sideBar": true,
   "skip_h1_title": false,
   "title_cell": "Table of Contents",
   "title_sidebar": "Contents",
   "toc_cell": false,
   "toc_position": {},
   "toc_section_display": true,
   "toc_window_display": false
  }
 },
 "nbformat": 4,
 "nbformat_minor": 5
}
